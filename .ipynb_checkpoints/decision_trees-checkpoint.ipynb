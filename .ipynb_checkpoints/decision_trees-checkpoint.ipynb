{
 "cells": [
  {
   "cell_type": "code",
   "execution_count": 1,
   "metadata": {},
   "outputs": [
    {
     "data": {
      "application/javascript": [
       "IPython.OutputArea.prototype._should_scroll = function(lines) {\n",
       "    return false;\n",
       "}"
      ],
      "text/plain": [
       "<IPython.core.display.Javascript object>"
      ]
     },
     "metadata": {},
     "output_type": "display_data"
    }
   ],
   "source": [
    "%%javascript\n",
    "IPython.OutputArea.prototype._should_scroll = function(lines) {\n",
    "    return false;\n",
    "}"
   ]
  },
  {
   "cell_type": "code",
   "execution_count": 2,
   "metadata": {},
   "outputs": [],
   "source": [
    "import time\n",
    "\n",
    "import pandas as pd\n",
    "import numpy as np\n",
    "import matplotlib.pyplot as plt\n",
    "\n",
    "from sklearn.ensemble import AdaBoostClassifier\n",
    "\n",
    "from sklearn.ensemble import BaggingClassifier\n",
    "from sklearn.neighbors import KNeighborsClassifier\n",
    "\n",
    "from sklearn.ensemble import RandomForestClassifier\n",
    "\n",
    "from sklearn.ensemble import GradientBoostingClassifier\n",
    "\n",
    "from sklearn.ensemble import ExtraTreesClassifier\n",
    "\n",
    "from sklearn.tree import DecisionTreeClassifier\n",
    "\n",
    "from sklearn import tree\n",
    "from sklearn.model_selection import cross_val_score\n",
    "from sklearn.datasets import load_iris\n",
    "\n",
    "from sklearn.model_selection import train_test_split\n",
    "from sklearn import metrics\n",
    "\n",
    "from xgboost import XGBClassifier"
   ]
  },
  {
   "cell_type": "code",
   "execution_count": 3,
   "metadata": {},
   "outputs": [],
   "source": [
    "# To Read out 100 rows rather than the default value. \n",
    "pd.set_option('display.max_rows', 1000)"
   ]
  },
  {
   "cell_type": "code",
   "execution_count": 4,
   "metadata": {},
   "outputs": [
    {
     "name": "stdout",
     "output_type": "stream",
     "text": [
      "Size: \n",
      "(146294, 25)\n"
     ]
    }
   ],
   "source": [
    "# Importing the main data\n",
    "df = pd.read_csv('D:\\Spring 2019\\DS 440\\Data\\kplr_dr25_inj1_plti.csv', header = 0)\n",
    "\n",
    "print('Size: ')\n",
    "print(df.shape)"
   ]
  },
  {
   "cell_type": "code",
   "execution_count": 5,
   "metadata": {},
   "outputs": [
    {
     "name": "stdout",
     "output_type": "stream",
     "text": [
      "(146257, 15)\n"
     ]
    }
   ],
   "source": [
    "df2 = df.iloc[:, 0:15]\n",
    "df1 = df2[df2.isnull().any(axis=1)]\n",
    "df2 = df2.drop(df1.index.values)\n",
    "print(df2.shape)\n",
    "\n",
    "X = df2.iloc[:,1:14]\n",
    "Y = df2.iloc[:,14]"
   ]
  },
  {
   "cell_type": "code",
   "execution_count": 6,
   "metadata": {},
   "outputs": [
    {
     "name": "stdout",
     "output_type": "stream",
     "text": [
      "(117005, 13) (117005,)\n",
      "(29252, 13) (29252,)\n"
     ]
    }
   ],
   "source": [
    "X_train, X_test, Y_train, Y_test = train_test_split(X, Y, test_size=0.2, stratify = Y)\n",
    "print(X_train.shape, Y_train.shape)\n",
    "print(X_test.shape, Y_test.shape)"
   ]
  },
  {
   "cell_type": "code",
   "execution_count": 7,
   "metadata": {},
   "outputs": [
    {
     "name": "stdout",
     "output_type": "stream",
     "text": [
      "160.28592991828918\n"
     ]
    },
    {
     "data": {
      "text/plain": [
       "0.8809629081415544"
      ]
     },
     "execution_count": 7,
     "metadata": {},
     "output_type": "execute_result"
    }
   ],
   "source": [
    "abc = AdaBoostClassifier(n_estimators = 100, random_state = 0)\n",
    "start = time.time()\n",
    "abc_scores = cross_val_score(abc, X, Y, cv=5)\n",
    "end = time.time()\n",
    "print(end - start)\n",
    "abc_scores.mean() "
   ]
  },
  {
   "cell_type": "code",
   "execution_count": 8,
   "metadata": {},
   "outputs": [
    {
     "name": "stderr",
     "output_type": "stream",
     "text": [
      "[Parallel(n_jobs=1)]: Done 200 out of 200 | elapsed:   21.0s finished\n",
      "[Parallel(n_jobs=1)]: Done 200 out of 200 | elapsed:    1.9s finished\n",
      "[Parallel(n_jobs=1)]: Done 200 out of 200 | elapsed:   20.8s finished\n",
      "[Parallel(n_jobs=1)]: Done 200 out of 200 | elapsed:    1.8s finished\n",
      "[Parallel(n_jobs=1)]: Done 200 out of 200 | elapsed:   21.2s finished\n",
      "[Parallel(n_jobs=1)]: Done 200 out of 200 | elapsed:    1.8s finished\n",
      "[Parallel(n_jobs=1)]: Done 200 out of 200 | elapsed:   20.2s finished\n",
      "[Parallel(n_jobs=1)]: Done 200 out of 200 | elapsed:    1.8s finished\n",
      "[Parallel(n_jobs=1)]: Done 200 out of 200 | elapsed:   20.2s finished\n"
     ]
    },
    {
     "name": "stdout",
     "output_type": "stream",
     "text": [
      "115.62731075286865\n"
     ]
    },
    {
     "name": "stderr",
     "output_type": "stream",
     "text": [
      "[Parallel(n_jobs=1)]: Done 200 out of 200 | elapsed:    1.8s finished\n"
     ]
    },
    {
     "data": {
      "text/plain": [
       "0.8682455550182789"
      ]
     },
     "execution_count": 8,
     "metadata": {},
     "output_type": "execute_result"
    }
   ],
   "source": [
    "etc = ExtraTreesClassifier(n_estimators = 200, max_depth = 20, random_state = 0, verbose = 1, min_samples_split = 2)\n",
    "start = time.time()\n",
    "etc_scores = cross_val_score(etc, X, Y, cv=5)\n",
    "end = time.time()\n",
    "print(end - start)\n",
    "etc_scores.mean()"
   ]
  },
  {
   "cell_type": "code",
   "execution_count": null,
   "metadata": {},
   "outputs": [
    {
     "name": "stderr",
     "output_type": "stream",
     "text": [
      "[Parallel(n_jobs=1)]: Done 350 out of 350 | elapsed:  2.5min finished\n",
      "[Parallel(n_jobs=1)]: Done 350 out of 350 | elapsed:    2.9s finished\n",
      "[Parallel(n_jobs=1)]: Done 350 out of 350 | elapsed:  4.0min finished\n",
      "[Parallel(n_jobs=1)]: Done 350 out of 350 | elapsed:    7.0s finished\n",
      "[Parallel(n_jobs=1)]: Done 350 out of 350 | elapsed:  6.7min finished\n",
      "[Parallel(n_jobs=1)]: Done 350 out of 350 | elapsed:    7.1s finished\n"
     ]
    }
   ],
   "source": [
    "rfc = RandomForestClassifier(n_estimators = 350, max_depth = 17, random_state = 0, verbose = 1, min_samples_split = 2)\n",
    "start = time.time()\n",
    "rfc_scores = cross_val_score(rfc, X, Y, cv=5)\n",
    "end = time.time()\n",
    "print(end - start)\n",
    "rfc_scores.mean() "
   ]
  },
  {
   "cell_type": "code",
   "execution_count": null,
   "metadata": {},
   "outputs": [],
   "source": [
    "dtc = DecisionTreeClassifier(max_depth=None, min_samples_split=2,random_state=0)\n",
    "start = time.time()\n",
    "dtc_scores = cross_val_score(dtc, X, Y, cv=5)\n",
    "end = time.time()\n",
    "print(end - start)\n",
    "dtc_scores.mean()  "
   ]
  },
  {
   "cell_type": "code",
   "execution_count": null,
   "metadata": {},
   "outputs": [],
   "source": [
    "start = time.time()\n",
    "gbc = GradientBoostingClassifier(n_estimators=100, learning_rate=1.0, max_depth=1, random_state=0).fit(X_train, Y_train)\n",
    "end = time.time()\n",
    "print(end - start)\n",
    "gbc.score(X_test, Y_test)  "
   ]
  },
  {
   "cell_type": "code",
   "execution_count": null,
   "metadata": {},
   "outputs": [],
   "source": [
    "xgb = XGBClassifier(n_estimators = 100, max_depth = 20, random_state=0)\n",
    "start = time.time()\n",
    "xgb_scores = cross_val_score(xgb, X, Y, cv=5)\n",
    "end = time.time()\n",
    "print(end - start)\n",
    "xgb_scores.mean() "
   ]
  },
  {
   "cell_type": "code",
   "execution_count": null,
   "metadata": {},
   "outputs": [],
   "source": [
    "plt.matshow(df2.corr())"
   ]
  }
 ],
 "metadata": {
  "kernelspec": {
   "display_name": "Python 3",
   "language": "python",
   "name": "python3"
  },
  "language_info": {
   "codemirror_mode": {
    "name": "ipython",
    "version": 3
   },
   "file_extension": ".py",
   "mimetype": "text/x-python",
   "name": "python",
   "nbconvert_exporter": "python",
   "pygments_lexer": "ipython3",
   "version": "3.6.5"
  }
 },
 "nbformat": 4,
 "nbformat_minor": 2
}
