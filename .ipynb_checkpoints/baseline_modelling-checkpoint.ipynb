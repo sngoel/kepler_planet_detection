{
 "cells": [
  {
   "cell_type": "code",
   "execution_count": 1,
   "metadata": {},
   "outputs": [
    {
     "data": {
      "application/javascript": [
       "IPython.OutputArea.prototype._should_scroll = function(lines) {\n",
       "    return false;\n",
       "}\n"
      ],
      "text/plain": [
       "<IPython.core.display.Javascript object>"
      ]
     },
     "metadata": {},
     "output_type": "display_data"
    }
   ],
   "source": [
    "%%javascript\n",
    "IPython.OutputArea.prototype._should_scroll = function(lines) {\n",
    "    return false;\n",
    "}"
   ]
  },
  {
   "cell_type": "code",
   "execution_count": 2,
   "metadata": {},
   "outputs": [],
   "source": [
    "import os\n",
    "import dill\n",
    "import warnings\n",
    "\n",
    "import time as time\n",
    "import pandas as pd\n",
    "import numpy as np\n",
    "\n",
    "from glob import glob\n",
    "\n",
    "from xgboost import XGBClassifier\n",
    "from sklearn.ensemble import BaggingClassifier\n",
    "from sklearn.ensemble import AdaBoostClassifier\n",
    "from sklearn.ensemble import ExtraTreesClassifier\n",
    "from sklearn.ensemble import RandomForestClassifier\n",
    "from sklearn.ensemble import GradientBoostingClassifier\n",
    "\n",
    "from sklearn.neighbors import KNeighborsClassifier\n",
    "from sklearn.tree import DecisionTreeClassifier\n",
    "\n",
    "from sklearn.model_selection import cross_val_score\n",
    "from sklearn.model_selection import train_test_split\n",
    "from sklearn.model_selection import GridSearchCV\n",
    "from sklearn.model_selection import StratifiedKFold"
   ]
  },
  {
   "cell_type": "code",
   "execution_count": 3,
   "metadata": {},
   "outputs": [],
   "source": [
    "# To Read out 100 rows rather than the default value. \n",
    "pd.set_option('display.max_rows', 1000)\n",
    "\n",
    "# Not prinitng the warnings\n",
    "warnings.filterwarnings('ignore')\n",
    "\n",
    "# Setting the working path for data input and result outputs\n",
    "os.chdir('D:\\\\Spring 2019\\\\DS 440\\\\Data')"
   ]
  },
  {
   "cell_type": "code",
   "execution_count": 4,
   "metadata": {},
   "outputs": [
    {
     "name": "stdout",
     "output_type": "stream",
     "text": [
      "Size: \n",
      "(45377, 26)\n"
     ]
    }
   ],
   "source": [
    "#filenames = glob('D:\\Spring 2019\\DS 440\\Data\\kplr_dr25_inj*.csv')\n",
    "#df = pd.concat([pd.read_csv(f) for f in filenames], ignore_index = True)\n",
    "\n",
    "# Problem 2\n",
    "#df = pd.read_csv('kplr_dr25_inj1_plti.csv', header = 0)\n",
    "\n",
    "# Problem 2\n",
    "df = pd.read_csv('kplr_dr25_inj1_tces.csv', header = 0)\n",
    "\n",
    "print('Size: ')\n",
    "print(df.shape)"
   ]
  },
  {
   "cell_type": "code",
   "execution_count": 5,
   "metadata": {},
   "outputs": [
    {
     "data": {
      "text/plain": [
       "'\\ntemp_df = df.iloc[:, 0:15]\\ndf_drop = temp_df[temp_df.isnull().any(axis=1)]\\ntemp_df = temp_df.drop(df_drop.index.values)\\nprint(temp_df.shape)\\n\\nX = temp_df.iloc[:, 1:14]\\nY = temp_df.iloc[:, 14]\\n'"
      ]
     },
     "execution_count": 5,
     "metadata": {},
     "output_type": "execute_result"
    }
   ],
   "source": [
    "'''\n",
    "temp_df = df.iloc[:, 0:15]\n",
    "df_drop = temp_df[temp_df.isnull().any(axis=1)]\n",
    "temp_df = temp_df.drop(df_drop.index.values)\n",
    "print(temp_df.shape)\n",
    "\n",
    "X = temp_df.iloc[:, 1:14]\n",
    "Y = temp_df.iloc[:, 14]\n",
    "'''"
   ]
  },
  {
   "cell_type": "code",
   "execution_count": 6,
   "metadata": {},
   "outputs": [],
   "source": [
    "df['Disp'] = df['Disp'].replace('PC', 1)\n",
    "df['Disp'] = df['Disp'].replace('FP', 0)\n",
    "\n",
    "X = df.iloc[:,10:25]\n",
    "Y = df.iloc[:,2]"
   ]
  },
  {
   "cell_type": "code",
   "execution_count": 7,
   "metadata": {},
   "outputs": [],
   "source": [
    "knc = KNeighborsClassifier()\n",
    "abc = AdaBoostClassifier()\n",
    "xgb = XGBClassifier()\n",
    "dtc = DecisionTreeClassifier()\n",
    "etc = ExtraTreesClassifier()\n",
    "rfc = RandomForestClassifier()\n",
    "gbc = GradientBoostingClassifier()\n",
    "\n",
    "kFold = StratifiedKFold(n_splits = 10, shuffle = True, random_state = 7)"
   ]
  },
  {
   "cell_type": "code",
   "execution_count": 8,
   "metadata": {},
   "outputs": [
    {
     "name": "stdout",
     "output_type": "stream",
     "text": [
      "Time:  1.37\n",
      "Accuracy:  0.836239\n"
     ]
    }
   ],
   "source": [
    "start = time.time()\n",
    "knc_scores = cross_val_score(knc, X, Y, cv = kFold)\n",
    "end = time.time()\n",
    "print('Time: ', round(end - start, 2))\n",
    "print('Accuracy: ', round(knc_scores.mean(), 6))"
   ]
  },
  {
   "cell_type": "code",
   "execution_count": 9,
   "metadata": {},
   "outputs": [
    {
     "name": "stdout",
     "output_type": "stream",
     "text": [
      "Time:  32.68\n",
      "Accuracy:  0.859334\n"
     ]
    }
   ],
   "source": [
    "start = time.time()\n",
    "abc_scores = cross_val_score(abc, X, Y, cv = kFold)\n",
    "end = time.time()\n",
    "print('Time: ', round(end - start, 2))\n",
    "print('Accuracy: ', round(abc_scores.mean(), 6))"
   ]
  },
  {
   "cell_type": "code",
   "execution_count": 10,
   "metadata": {},
   "outputs": [
    {
     "name": "stdout",
     "output_type": "stream",
     "text": [
      "Time:  24.91\n",
      "Accuracy:  0.865108\n"
     ]
    }
   ],
   "source": [
    "start = time.time()\n",
    "xgb_scores = cross_val_score(xgb, X, Y, cv = kFold)\n",
    "end = time.time()\n",
    "print('Time: ', round(end - start, 2))\n",
    "print('Accuracy: ', round(xgb_scores.mean(), 6))"
   ]
  },
  {
   "cell_type": "code",
   "execution_count": 11,
   "metadata": {},
   "outputs": [
    {
     "name": "stdout",
     "output_type": "stream",
     "text": [
      "Time:  9.8\n",
      "Accuracy:  0.787095\n"
     ]
    }
   ],
   "source": [
    "start = time.time()\n",
    "dtc_scores = cross_val_score(dtc, X, Y, cv = kFold)\n",
    "end = time.time()\n",
    "print('Time: ', round(end - start, 2))\n",
    "print('Accuracy: ', round(dtc_scores.mean(), 6))"
   ]
  },
  {
   "cell_type": "code",
   "execution_count": 12,
   "metadata": {},
   "outputs": [
    {
     "name": "stdout",
     "output_type": "stream",
     "text": [
      "Time:  3.4\n",
      "Accuracy:  0.84988\n"
     ]
    }
   ],
   "source": [
    "start = time.time()\n",
    "etc_scores = cross_val_score(etc, X, Y, cv = kFold)\n",
    "end = time.time()\n",
    "print('Time: ', round(end - start, 2))\n",
    "print('Accuracy: ', round(etc_scores.mean(), 6))"
   ]
  },
  {
   "cell_type": "code",
   "execution_count": 13,
   "metadata": {},
   "outputs": [
    {
     "name": "stdout",
     "output_type": "stream",
     "text": [
      "Time:  11.77\n",
      "Accuracy:  0.849792\n"
     ]
    }
   ],
   "source": [
    "start = time.time()\n",
    "rfc_scores = cross_val_score(rfc, X, Y, cv = kFold)\n",
    "end = time.time()\n",
    "print('Time: ', round(end - start, 2))\n",
    "print('Accuracy: ', round(rfc_scores.mean(), 6))"
   ]
  },
  {
   "cell_type": "code",
   "execution_count": 14,
   "metadata": {},
   "outputs": [
    {
     "name": "stdout",
     "output_type": "stream",
     "text": [
      "Time:  38.8\n",
      "Accuracy:  0.86513\n"
     ]
    }
   ],
   "source": [
    "start = time.time()\n",
    "gbc_scores = cross_val_score(gbc, X, Y, cv = kFold)\n",
    "end = time.time()\n",
    "print('Time: ', round(end - start, 2))\n",
    "print('Accuracy: ', round(gbc_scores.mean(), 6) )"
   ]
  }
 ],
 "metadata": {
  "kernelspec": {
   "display_name": "Python 3",
   "language": "python",
   "name": "python3"
  },
  "language_info": {
   "codemirror_mode": {
    "name": "ipython",
    "version": 3
   },
   "file_extension": ".py",
   "mimetype": "text/x-python",
   "name": "python",
   "nbconvert_exporter": "python",
   "pygments_lexer": "ipython3",
   "version": "3.7.1"
  }
 },
 "nbformat": 4,
 "nbformat_minor": 2
}
