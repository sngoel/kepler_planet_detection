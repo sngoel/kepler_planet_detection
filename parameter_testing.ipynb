{
 "cells": [
  {
   "cell_type": "code",
   "execution_count": 1,
   "metadata": {},
   "outputs": [
    {
     "data": {
      "application/javascript": [
       "IPython.OutputArea.prototype._should_scroll = function(lines) {\n",
       "    return false;\n",
       "}"
      ],
      "text/plain": [
       "<IPython.core.display.Javascript object>"
      ]
     },
     "metadata": {},
     "output_type": "display_data"
    }
   ],
   "source": [
    "%%javascript\n",
    "IPython.OutputArea.prototype._should_scroll = function(lines) {\n",
    "    return false;\n",
    "}"
   ]
  },
  {
   "cell_type": "code",
   "execution_count": 2,
   "metadata": {},
   "outputs": [],
   "source": [
    "import time\n",
    "\n",
    "import pandas as pd\n",
    "import numpy as np\n",
    "import matplotlib.pyplot as plt\n",
    "\n",
    "from glob import glob\n",
    "\n",
    "from matplotlib import transforms\n",
    "\n",
    "from xgboost import XGBClassifier\n",
    "from sklearn.ensemble import BaggingClassifier\n",
    "from sklearn.ensemble import AdaBoostClassifier\n",
    "from sklearn.ensemble import ExtraTreesClassifier\n",
    "from sklearn.ensemble import RandomForestClassifier\n",
    "from sklearn.ensemble import GradientBoostingClassifier\n",
    "\n",
    "from sklearn.neighbors import KNeighborsClassifier\n",
    "from sklearn.tree import DecisionTreeClassifier\n",
    "\n",
    "from sklearn.feature_selection import SelectKBest\n",
    "from sklearn.feature_selection import chi2\n",
    "\n",
    "from sklearn.model_selection import cross_val_score\n",
    "from sklearn.model_selection import train_test_split\n",
    "from sklearn.model_selection import GridSearchCV\n",
    "from sklearn.model_selection import StratifiedKFold\n",
    "\n",
    "from sklearn import metrics"
   ]
  },
  {
   "cell_type": "code",
   "execution_count": 3,
   "metadata": {},
   "outputs": [],
   "source": [
    "# To Read out 100 rows rather than the default value. \n",
    "pd.set_option('display.max_rows', 1000)"
   ]
  },
  {
   "cell_type": "code",
   "execution_count": 4,
   "metadata": {},
   "outputs": [
    {
     "name": "stdout",
     "output_type": "stream",
     "text": [
      "Size: \n",
      "(45377, 26)\n"
     ]
    }
   ],
   "source": [
    "#filenames = glob('D:\\Spring 2019\\DS 440\\Data\\kplr_dr25_inj*.csv')\n",
    "#df = pd.concat([pd.read_csv(f) for f in filenames], ignore_index = True)\n",
    "df = pd.read_csv('D:\\Spring 2019\\DS 440\\Data\\kplr_dr25_inj1_tces.csv', header = 0)\n",
    "\n",
    "print('Size: ')\n",
    "print(df.shape)"
   ]
  },
  {
   "cell_type": "code",
   "execution_count": 5,
   "metadata": {},
   "outputs": [
    {
     "data": {
      "text/plain": [
       "'\\nplti_inj1 = pd.read_csv(\\'D:\\\\Spring 2019\\\\DS 440\\\\Data\\\\kplr_dr25_inj1_plti.csv\\', header = 0)\\nplti_inj2 = pd.read_csv(\\'D:\\\\Spring 2019\\\\DS 440\\\\Data\\\\kplr_dr25_inj2_plti.csv\\', header = 0)\\nplti_inj3 = pd.read_csv(\\'D:\\\\Spring 2019\\\\DS 440\\\\Data\\\\kplr_dr25_inj3_plti.csv\\', header = 0)\\n\\nprint(\\'\"kplr_dr25_inj1_plti\" Size: \\')\\nprint(plti_inj1.shape)\\n\\nprint(\\'\\n\"kplr_dr25_inj2_plti\" Size: \\')\\nprint(plti_inj2.shape)\\n\\nprint(\\'\\n\"kplr_dr25_inj3_plti\" Size: \\')\\nprint(plti_inj3.shape)\\n'"
      ]
     },
     "execution_count": 5,
     "metadata": {},
     "output_type": "execute_result"
    }
   ],
   "source": [
    "'''\n",
    "plti_inj1 = pd.read_csv('D:\\Spring 2019\\DS 440\\Data\\kplr_dr25_inj1_plti.csv', header = 0)\n",
    "plti_inj2 = pd.read_csv('D:\\Spring 2019\\DS 440\\Data\\kplr_dr25_inj2_plti.csv', header = 0)\n",
    "plti_inj3 = pd.read_csv('D:\\Spring 2019\\DS 440\\Data\\kplr_dr25_inj3_plti.csv', header = 0)\n",
    "\n",
    "print('\"kplr_dr25_inj1_plti\" Size: ')\n",
    "print(plti_inj1.shape)\n",
    "\n",
    "print('\\n\"kplr_dr25_inj2_plti\" Size: ')\n",
    "print(plti_inj2.shape)\n",
    "\n",
    "print('\\n\"kplr_dr25_inj3_plti\" Size: ')\n",
    "print(plti_inj3.shape)\n",
    "'''"
   ]
  },
  {
   "cell_type": "code",
   "execution_count": 6,
   "metadata": {},
   "outputs": [
    {
     "data": {
      "text/plain": [
       "'temp_df = df.iloc[:, 0:15]\\ndf_drop = temp_df[temp_df.isnull().any(axis=1)]\\ntemp_df = temp_df.drop(df_drop.index.values)\\nprint(temp_df.shape)\\n\\nX = temp_df.iloc[:, 1:14]\\nY = temp_df.iloc[:, 14]\\ncols_indices = X.columns'"
      ]
     },
     "execution_count": 6,
     "metadata": {},
     "output_type": "execute_result"
    }
   ],
   "source": [
    "'''temp_df = df.iloc[:, 0:15]\n",
    "df_drop = temp_df[temp_df.isnull().any(axis=1)]\n",
    "temp_df = temp_df.drop(df_drop.index.values)\n",
    "print(temp_df.shape)\n",
    "\n",
    "X = temp_df.iloc[:, 1:14]\n",
    "Y = temp_df.iloc[:, 14]\n",
    "cols_indices = X.columns'''"
   ]
  },
  {
   "cell_type": "code",
   "execution_count": 7,
   "metadata": {},
   "outputs": [],
   "source": [
    "df['Disp'] = df['Disp'].replace('PC', 1)\n",
    "df['Disp'] = df['Disp'].replace('FP', 0)\n",
    "\n",
    "X = df.iloc[:,10:25]\n",
    "Y = df.iloc[:,2]"
   ]
  },
  {
   "cell_type": "code",
   "execution_count": 8,
   "metadata": {},
   "outputs": [
    {
     "data": {
      "image/png": "[encoded data removed]",
      "text/plain": [
       "<Figure size 432x288 with 1 Axes>"
      ]
     },
     "metadata": {},
     "output_type": "display_data"
    }
   ],
   "source": [
    "# Number of trees in random forest\n",
    "n_estimators = [int(x) for x in np.linspace(start = 10, stop = 350, num = 5)]\n",
    "\n",
    "# Maximum number of levels in tree\n",
    "max_depth = [int(x) for x in np.linspace(start = 2, stop = 30, num = 10)]\n",
    "\n",
    "# Minimum number of samples required to split a node\n",
    "min_samples_split = [2, 5, 10]\n",
    "\n",
    "# Minimum number of samples required at each leaf node\n",
    "min_samples_leaf = [1, 2, 4]\n",
    "\n",
    "# Minimum number of neighbors required for each node\n",
    "n_neighbors = [int(x) for x in np.linspace(start = 10, stop = 3, num = 30)]\n",
    "\n",
    "# Minimum Power parameter required for the Minkowski metric\n",
    "p = [int(x) for x in np.linspace(start = 10, stop = 1, num = 5)]\n",
    "\n",
    "knc = KNeighborsClassifier() #n_neighbors, p\n",
    "abc = AdaBoostClassifier() #n_estimators\n",
    "xgb = XGBClassifier() #n_estimators, max_depth\n",
    "dtc = DecisionTreeClassifier() #max_depth, min_samples_split, min_samples_leaf\n",
    "etc = ExtraTreesClassifier() #n_estimators, max_depth, min_samples_split, min_samples_leaf\n",
    "rfc = RandomForestClassifier() #n_estimators, max_depth, min_samples_split, min_samples_leaf\n",
    "gbc = GradientBoostingClassifier() #n_estimators, max_depth, min_samples_split, min_samples_leaf\n",
    "\n",
    "kfold = StratifiedKFold(n_splits = 10, shuffle = True, random_state = 7)\n",
    "\n",
    "plt.gca().set_prop_cycle(plt.cycler('color', plt.cm.jet(np.linspace(0, 1, len(max_depth)))))"
   ]
  },
  {
   "cell_type": "code",
   "execution_count": null,
   "metadata": {},
   "outputs": [],
   "source": [
    "#Create the param frid\n",
    "param_grid = dict(n_neighbors = n_neighbors,\n",
    "                  p = p)\n",
    "\n",
    "knc_grid_search = GridSearchCV(knc, param_grid, scoring = \"neg_log_loss\", n_jobs = -1, cv = kfold)\n",
    "knc_grid_result = knc_grid_search.fit(X, Y)\n",
    "\n",
    "# summarize results\n",
    "print(\"Best: %f using %s\" % (knc_grid_result.best_score_, knc_grid_result.best_params_))\n",
    "means = knc_grid_result.cv_results_['mean_test_score']\n",
    "stds = knc_grid_result.cv_results_['std_test_score']\n",
    "params = knc_grid_result.cv_results_['params']\n",
    "print('KNeighborsClassifier')\n",
    "for mean, stdev, param in zip(means, stds, params):\n",
    "    print(\"%f (%f) with: %r\" % (mean, stdev, param))"
   ]
  },
  {
   "cell_type": "code",
   "execution_count": null,
   "metadata": {},
   "outputs": [],
   "source": [
    "#Create the param frid\n",
    "param_grid = dict(n_estimators = n_estimators)\n",
    "\n",
    "abc_grid_search = GridSearchCV(abc, param_grid, scoring = \"neg_log_loss\", n_jobs = -1, cv = kfold)\n",
    "abc_grid_result = abc_grid_search.fit(X, Y)\n",
    "\n",
    "# summarize results\n",
    "print(\"Best: %f using %s\" % (abc_grid_result.best_score_, abc_grid_result.best_params_))\n",
    "means = abc_grid_result.cv_results_['mean_test_score']\n",
    "stds = abc_grid_result.cv_results_['std_test_score']\n",
    "params = abc_grid_result.cv_results_['params']\n",
    "print('AdaBoostClassifier')\n",
    "for mean, stdev, param in zip(means, stds, params):\n",
    "    print(\"%f (%f) with: %r\" % (mean, stdev, param))"
   ]
  },
  {
   "cell_type": "code",
   "execution_count": null,
   "metadata": {},
   "outputs": [],
   "source": [
    "#Create the param frid\n",
    "param_grid = dict(n_estimators = n_estimators,\n",
    "                  max_depth = max_depth)\n",
    "\n",
    "xgb_grid_search = GridSearchCV(xgb, param_grid, scoring = \"neg_log_loss\", n_jobs = -1, cv = kfold)\n",
    "xgb_grid_result = xgb_grid_search.fit(X, Y)\n",
    "\n",
    "# summarize results\n",
    "print(\"Best: %f using %s\" % (xgb_grid_result.best_score_, xgb_grid_result.best_params_))\n",
    "means = xgb_grid_result.cv_results_['mean_test_score']\n",
    "stds = xgb_grid_result.cv_results_['std_test_score']\n",
    "params = xgb_grid_result.cv_results_['params']\n",
    "for mean, stdev, param in zip(means, stds, params):\n",
    "    print(\"%f (%f) with: %r\" % (mean, stdev, param))"
   ]
  },
  {
   "cell_type": "code",
   "execution_count": null,
   "metadata": {},
   "outputs": [],
   "source": [
    "#Create the param frid\n",
    "param_grid = dict(max_depth = max_depth,\n",
    "                  min_samples_split = min_samples_split,\n",
    "                  min_samples_leaf = min_samples_leaf)\n",
    "\n",
    "dtc_grid_search = GridSearchCV(dtc, param_grid, scoring = \"neg_log_loss\", n_jobs = -1, cv = kfold)\n",
    "dtc_grid_result = dtc_grid_search.fit(X, Y)\n",
    "\n",
    "# summarize results\n",
    "print(\"Best: %f using %s\" % (dtc_grid_result.best_score_, dtc_grid_result.best_params_))\n",
    "means = dtc_grid_result.cv_results_['mean_test_score']\n",
    "stds = dtc_grid_result.cv_results_['std_test_score']\n",
    "params = dtc_grid_result.cv_results_['params']\n",
    "for mean, stdev, param in zip(means, stds, params):\n",
    "    print(\"%f (%f) with: %r\" % (mean, stdev, param))"
   ]
  },
  {
   "cell_type": "code",
   "execution_count": null,
   "metadata": {},
   "outputs": [],
   "source": [
    "#Create the param frid\n",
    "param_grid = dict(n_estimators = n_estimators,\n",
    "                  max_depth = max_depth,\n",
    "                  min_samples_split = min_samples_split,\n",
    "                  min_samples_leaf = min_samples_leaf)"
   ]
  },
  {
   "cell_type": "code",
   "execution_count": null,
   "metadata": {},
   "outputs": [],
   "source": [
    "etc_grid_search = GridSearchCV(etc, param_grid, scoring = \"neg_log_loss\", n_jobs = -1, cv = kfold)\n",
    "etc_grid_result = etc_grid_search.fit(X, Y)\n",
    "\n",
    "# summarize results\n",
    "print(\"Best: %f using %s\" % (etc_grid_result.best_score_, etc_grid_result.best_params_))\n",
    "means = etc_grid_result.cv_results_['mean_test_score']\n",
    "stds = etc_grid_result.cv_results_['std_test_score']\n",
    "params = etc_grid_result.cv_results_['params']\n",
    "for mean, stdev, param in zip(means, stds, params):\n",
    "    print(\"%f (%f) with: %r\" % (mean, stdev, param))"
   ]
  },
  {
   "cell_type": "code",
   "execution_count": null,
   "metadata": {},
   "outputs": [],
   "source": [
    "rfc_grid_search = GridSearchCV(rfc, param_grid, scoring = \"neg_log_loss\", n_jobs = -1, cv = kfold)\n",
    "rfc_grid_result = rfc_grid_search.fit(X, Y)\n",
    "\n",
    "# summarize results\n",
    "print(\"Best: %f using %s\" % (rfc_grid_result.best_score_, rfc_grid_result.best_params_))\n",
    "means = rfc_grid_result.cv_results_['mean_test_score']\n",
    "stds = rfc_grid_result.cv_results_['std_test_score']\n",
    "params = rfc_grid_result.cv_results_['params']\n",
    "for mean, stdev, param in zip(means, stds, params):\n",
    "    print(\"%f (%f) with: %r\" % (mean, stdev, param))"
   ]
  },
  {
   "cell_type": "code",
   "execution_count": null,
   "metadata": {},
   "outputs": [],
   "source": [
    "gbc_grid_search = GridSearchCV(gbc, param_grid, scoring = \"neg_log_loss\", n_jobs = -1, cv = kfold)\n",
    "gbc_grid_result = gbc_grid_search.fit(X, Y)\n",
    "\n",
    "# summarize results\n",
    "print(\"Best: %f using %s\" % (gbc_grid_result.best_score_, gbc_grid_result.best_params_))\n",
    "means = gbc_grid_result.cv_results_['mean_test_score']\n",
    "stds = gbc_grid_result.cv_results_['std_test_score']\n",
    "params = gbc_grid_result.cv_results_['params']\n",
    "for mean, stdev, param in zip(means, stds, params):\n",
    "    print(\"%f (%f) with: %r\" % (mean, stdev, param))"
   ]
  }
 ],
 "metadata": {
  "kernelspec": {
   "display_name": "Python 3",
   "language": "python",
   "name": "python3"
  },
  "language_info": {
   "codemirror_mode": {
    "name": "ipython",
    "version": 3
   },
   "file_extension": ".py",
   "mimetype": "text/x-python",
   "name": "python",
   "nbconvert_exporter": "python",
   "pygments_lexer": "ipython3",
   "version": "3.6.5"
  }
 },
 "nbformat": 4,
 "nbformat_minor": 2
}
